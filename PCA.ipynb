{
 "cells": [
  {
   "cell_type": "code",
   "execution_count": 2,
   "id": "69c7aa0d-6044-476a-9934-56c96818af4d",
   "metadata": {},
   "outputs": [],
   "source": [
    "import pandas as pd\n",
    "import numpy as np\n",
    "data={\"x1\": [4,8,13,7], \"x2\": [11,4,5,14]}\n",
    "df=pd.DataFrame(data)"
   ]
  },
  {
   "cell_type": "code",
   "execution_count": 3,
   "id": "356c9263-bd0e-47ca-be46-77803a710b2d",
   "metadata": {},
   "outputs": [
    {
     "data": {
      "text/html": [
       "<div>\n",
       "<style scoped>\n",
       "    .dataframe tbody tr th:only-of-type {\n",
       "        vertical-align: middle;\n",
       "    }\n",
       "\n",
       "    .dataframe tbody tr th {\n",
       "        vertical-align: top;\n",
       "    }\n",
       "\n",
       "    .dataframe thead th {\n",
       "        text-align: right;\n",
       "    }\n",
       "</style>\n",
       "<table border=\"1\" class=\"dataframe\">\n",
       "  <thead>\n",
       "    <tr style=\"text-align: right;\">\n",
       "      <th></th>\n",
       "      <th>x1</th>\n",
       "      <th>x2</th>\n",
       "    </tr>\n",
       "  </thead>\n",
       "  <tbody>\n",
       "    <tr>\n",
       "      <th>0</th>\n",
       "      <td>4</td>\n",
       "      <td>11</td>\n",
       "    </tr>\n",
       "    <tr>\n",
       "      <th>1</th>\n",
       "      <td>8</td>\n",
       "      <td>4</td>\n",
       "    </tr>\n",
       "    <tr>\n",
       "      <th>2</th>\n",
       "      <td>13</td>\n",
       "      <td>5</td>\n",
       "    </tr>\n",
       "    <tr>\n",
       "      <th>3</th>\n",
       "      <td>7</td>\n",
       "      <td>14</td>\n",
       "    </tr>\n",
       "  </tbody>\n",
       "</table>\n",
       "</div>"
      ],
      "text/plain": [
       "   x1  x2\n",
       "0   4  11\n",
       "1   8   4\n",
       "2  13   5\n",
       "3   7  14"
      ]
     },
     "execution_count": 3,
     "metadata": {},
     "output_type": "execute_result"
    }
   ],
   "source": [
    "df"
   ]
  },
  {
   "cell_type": "code",
   "execution_count": 54,
   "id": "1c1fd787-a9d7-425b-afd6-869100c08c8c",
   "metadata": {},
   "outputs": [
    {
     "data": {
      "text/html": [
       "<div>\n",
       "<style scoped>\n",
       "    .dataframe tbody tr th:only-of-type {\n",
       "        vertical-align: middle;\n",
       "    }\n",
       "\n",
       "    .dataframe tbody tr th {\n",
       "        vertical-align: top;\n",
       "    }\n",
       "\n",
       "    .dataframe thead th {\n",
       "        text-align: right;\n",
       "    }\n",
       "</style>\n",
       "<table border=\"1\" class=\"dataframe\">\n",
       "  <thead>\n",
       "    <tr style=\"text-align: right;\">\n",
       "      <th></th>\n",
       "      <th>x1</th>\n",
       "      <th>x2</th>\n",
       "    </tr>\n",
       "  </thead>\n",
       "  <tbody>\n",
       "    <tr>\n",
       "      <th>0</th>\n",
       "      <td>-1.069045</td>\n",
       "      <td>0.521286</td>\n",
       "    </tr>\n",
       "    <tr>\n",
       "      <th>1</th>\n",
       "      <td>0.000000</td>\n",
       "      <td>-0.938315</td>\n",
       "    </tr>\n",
       "    <tr>\n",
       "      <th>2</th>\n",
       "      <td>1.336306</td>\n",
       "      <td>-0.729800</td>\n",
       "    </tr>\n",
       "    <tr>\n",
       "      <th>3</th>\n",
       "      <td>-0.267261</td>\n",
       "      <td>1.146829</td>\n",
       "    </tr>\n",
       "  </tbody>\n",
       "</table>\n",
       "</div>"
      ],
      "text/plain": [
       "         x1        x2\n",
       "0 -1.069045  0.521286\n",
       "1  0.000000 -0.938315\n",
       "2  1.336306 -0.729800\n",
       "3 -0.267261  1.146829"
      ]
     },
     "execution_count": 54,
     "metadata": {},
     "output_type": "execute_result"
    }
   ],
   "source": [
    "def mean(x):\n",
    "    return x.mean()\n",
    "def std(x):\n",
    "    return x.std()\n",
    "def scaled(X):\n",
    "    X_mean=mean(X)\n",
    "    X_std=std(X)\n",
    "    return (X-X_mean)/X_std\n",
    "def cov(Z):\n",
    "    return Z.cov()\n",
    "def eigen(Z_cov):\n",
    "    return np.linalg.eig(Z_cov)\n",
    "X1=df[\"x1\"]\n",
    "X2=df[\"x2\"]\n",
    "X1_mean, X1_std=mean(X1),std(X1)\n",
    "X2_mean, X2_std=mean(X2),std(X1)\n",
    "Z1=scaled(X1)\n",
    "Z2=scaled(X2)\n",
    "d={\"x1\":Z1, \"x2\":Z2}\n",
    "std_data=pd.DataFrame(d)\n",
    "std_data"
   ]
  },
  {
   "cell_type": "code",
   "execution_count": 55,
   "id": "0ef61293-7e8c-461b-b888-a61f9e5fadaa",
   "metadata": {},
   "outputs": [
    {
     "data": {
      "text/html": [
       "<div>\n",
       "<style scoped>\n",
       "    .dataframe tbody tr th:only-of-type {\n",
       "        vertical-align: middle;\n",
       "    }\n",
       "\n",
       "    .dataframe tbody tr th {\n",
       "        vertical-align: top;\n",
       "    }\n",
       "\n",
       "    .dataframe thead th {\n",
       "        text-align: right;\n",
       "    }\n",
       "</style>\n",
       "<table border=\"1\" class=\"dataframe\">\n",
       "  <thead>\n",
       "    <tr style=\"text-align: right;\">\n",
       "      <th></th>\n",
       "      <th>x1</th>\n",
       "      <th>x2</th>\n",
       "    </tr>\n",
       "  </thead>\n",
       "  <tbody>\n",
       "    <tr>\n",
       "      <th>x1</th>\n",
       "      <td>1.000000</td>\n",
       "      <td>-0.613006</td>\n",
       "    </tr>\n",
       "    <tr>\n",
       "      <th>x2</th>\n",
       "      <td>-0.613006</td>\n",
       "      <td>1.000000</td>\n",
       "    </tr>\n",
       "  </tbody>\n",
       "</table>\n",
       "</div>"
      ],
      "text/plain": [
       "          x1        x2\n",
       "x1  1.000000 -0.613006\n",
       "x2 -0.613006  1.000000"
      ]
     },
     "execution_count": 55,
     "metadata": {},
     "output_type": "execute_result"
    }
   ],
   "source": [
    "Z_cov=cov(std_data)\n",
    "Z_cov"
   ]
  },
  {
   "cell_type": "code",
   "execution_count": 56,
   "id": "ac0394cf-aad8-448a-b624-e9aaa0dce5f9",
   "metadata": {},
   "outputs": [],
   "source": [
    "eigenvalue, eigenvector= eigen(Z_cov)\n"
   ]
  },
  {
   "cell_type": "code",
   "execution_count": 57,
   "id": "0f8bb2da-f114-4ace-9eba-ac715f16c032",
   "metadata": {},
   "outputs": [
    {
     "data": {
      "text/plain": [
       "array([1.61300603, 0.38699397])"
      ]
     },
     "execution_count": 57,
     "metadata": {},
     "output_type": "execute_result"
    }
   ],
   "source": [
    "eigenvalue"
   ]
  },
  {
   "cell_type": "code",
   "execution_count": 58,
   "id": "d16376d4-0f8e-4b14-9d53-aaeeab3daf67",
   "metadata": {},
   "outputs": [
    {
     "data": {
      "text/plain": [
       "array([[ 0.70710678,  0.70710678],\n",
       "       [-0.70710678,  0.70710678]])"
      ]
     },
     "execution_count": 58,
     "metadata": {},
     "output_type": "execute_result"
    }
   ],
   "source": [
    "eigenvector"
   ]
  },
  {
   "cell_type": "code",
   "execution_count": 59,
   "id": "d2f0a16b-be81-4e31-b63e-ffb7813e8bce",
   "metadata": {},
   "outputs": [
    {
     "data": {
      "text/plain": [
       "array([1.61300603, 0.38699397])"
      ]
     },
     "execution_count": 59,
     "metadata": {},
     "output_type": "execute_result"
    }
   ],
   "source": [
    "idx=eigenvalue.argsort()[::-1]\n",
    "eigenvalue=eigenvalue[idx]\n",
    "eigenvector=eigenvector[:,idx]\n",
    "eigenvalue"
   ]
  },
  {
   "cell_type": "code",
   "execution_count": 60,
   "id": "fdf6ec2c-b2d4-4c55-b386-8db06eb92569",
   "metadata": {},
   "outputs": [],
   "source": [
    "projection_mat=eigenvector[:,1] #if n_components are 1"
   ]
  },
  {
   "cell_type": "code",
   "execution_count": 61,
   "id": "2ebfc832-9183-48f6-8b99-95c770431d31",
   "metadata": {},
   "outputs": [
    {
     "data": {
      "text/plain": [
       "array([0.70710678, 0.70710678])"
      ]
     },
     "execution_count": 61,
     "metadata": {},
     "output_type": "execute_result"
    }
   ],
   "source": [
    "projection_mat"
   ]
  },
  {
   "cell_type": "code",
   "execution_count": 62,
   "id": "59858adb-3685-4630-bda6-7feb0d1e5f36",
   "metadata": {},
   "outputs": [
    {
     "data": {
      "text/plain": [
       "0   -0.387324\n",
       "1   -0.663489\n",
       "2    0.428864\n",
       "3    0.621949\n",
       "dtype: float64"
      ]
     },
     "execution_count": 62,
     "metadata": {},
     "output_type": "execute_result"
    }
   ],
   "source": [
    "pd.DataFrame.dot(std_data, projection_mat)"
   ]
  },
  {
   "cell_type": "code",
   "execution_count": 68,
   "id": "67a07396-0c4d-4cfe-a396-d6450c4390a7",
   "metadata": {},
   "outputs": [],
   "source": [
    "var=np.cumsum(eigenvalue)/np.sum(eigenvalue)"
   ]
  },
  {
   "cell_type": "code",
   "execution_count": 70,
   "id": "e418f19e-4c1f-423a-a97b-55af52a73e00",
   "metadata": {},
   "outputs": [
    {
     "data": {
      "text/plain": [
       "2"
      ]
     },
     "execution_count": 70,
     "metadata": {},
     "output_type": "execute_result"
    }
   ],
   "source": [
    "n_components=np.argmax(var>=0.85)+1\n",
    "n_components"
   ]
  },
  {
   "cell_type": "code",
   "execution_count": 71,
   "id": "3342577b-88f4-425e-b762-7475211d0549",
   "metadata": {},
   "outputs": [
    {
     "data": {
      "text/plain": [
       "array([[ 0.70710678,  0.70710678],\n",
       "       [-0.70710678,  0.70710678]])"
      ]
     },
     "execution_count": 71,
     "metadata": {},
     "output_type": "execute_result"
    }
   ],
   "source": [
    "u=eigenvector[:,:n_components]\n",
    "u"
   ]
  },
  {
   "cell_type": "code",
   "execution_count": 84,
   "id": "7a6c0ea7-9ce5-4813-9431-a08bdbfadbb4",
   "metadata": {},
   "outputs": [],
   "source": [
    "pca_component=pd.DataFrame(u, columns=[\"PCA1\", \"PCA2\"], index=['X1', 'X2'])"
   ]
  },
  {
   "cell_type": "code",
   "execution_count": 85,
   "id": "b7cb0e07-4e33-4fbb-9b57-eb4daa5fe4a7",
   "metadata": {},
   "outputs": [
    {
     "data": {
      "text/html": [
       "<div>\n",
       "<style scoped>\n",
       "    .dataframe tbody tr th:only-of-type {\n",
       "        vertical-align: middle;\n",
       "    }\n",
       "\n",
       "    .dataframe tbody tr th {\n",
       "        vertical-align: top;\n",
       "    }\n",
       "\n",
       "    .dataframe thead th {\n",
       "        text-align: right;\n",
       "    }\n",
       "</style>\n",
       "<table border=\"1\" class=\"dataframe\">\n",
       "  <thead>\n",
       "    <tr style=\"text-align: right;\">\n",
       "      <th></th>\n",
       "      <th>PCA1</th>\n",
       "      <th>PCA2</th>\n",
       "    </tr>\n",
       "  </thead>\n",
       "  <tbody>\n",
       "    <tr>\n",
       "      <th>X1</th>\n",
       "      <td>0.707107</td>\n",
       "      <td>0.707107</td>\n",
       "    </tr>\n",
       "    <tr>\n",
       "      <th>X2</th>\n",
       "      <td>-0.707107</td>\n",
       "      <td>0.707107</td>\n",
       "    </tr>\n",
       "  </tbody>\n",
       "</table>\n",
       "</div>"
      ],
      "text/plain": [
       "        PCA1      PCA2\n",
       "X1  0.707107  0.707107\n",
       "X2 -0.707107  0.707107"
      ]
     },
     "execution_count": 85,
     "metadata": {},
     "output_type": "execute_result"
    }
   ],
   "source": [
    "pca_component"
   ]
  },
  {
   "cell_type": "code",
   "execution_count": null,
   "id": "7607242d-c987-4b14-8072-d6c8de909dea",
   "metadata": {},
   "outputs": [],
   "source": []
  },
  {
   "cell_type": "code",
   "execution_count": null,
   "id": "a176d052-6efb-4d60-9e0d-782f318a41a3",
   "metadata": {},
   "outputs": [],
   "source": []
  }
 ],
 "metadata": {
  "kernelspec": {
   "display_name": "Python 3 (ipykernel)",
   "language": "python",
   "name": "python3"
  },
  "language_info": {
   "codemirror_mode": {
    "name": "ipython",
    "version": 3
   },
   "file_extension": ".py",
   "mimetype": "text/x-python",
   "name": "python",
   "nbconvert_exporter": "python",
   "pygments_lexer": "ipython3",
   "version": "3.12.3"
  }
 },
 "nbformat": 4,
 "nbformat_minor": 5
}
